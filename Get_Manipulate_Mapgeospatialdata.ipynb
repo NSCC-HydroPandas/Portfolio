{
 "cells": [
  {
   "cell_type": "markdown",
   "metadata": {},
   "source": [
    "# Nova Scotia Provincial High Precision Survey Control Points"
   ]
  },
  {
   "cell_type": "markdown",
   "metadata": {},
   "source": [
    "**1. Import Libraries**"
   ]
  },
  {
   "cell_type": "code",
   "execution_count": 1,
   "metadata": {},
   "outputs": [],
   "source": [
    "import requests\n",
    "import numpy as np\n",
    "import pandas as pd\n",
    "import matplotlib.pyplot as plt"
   ]
  },
  {
   "cell_type": "markdown",
   "metadata": {},
   "source": [
    "**2. Connect to Provincial Monument Dataset and Import into a Pandas DataFrame**\n",
    "\n",
    "https://data.novascotia.ca/Lands-Forests-and-Wildlife/Nova-Scotia-Control-Monuments/jdf8-5rt8/about_data\n",
    "\n",
    "Data Summary:\n",
    "\n",
    "***Nova Scotia Control Monuments\n",
    "Lands, Forests and Wildlife\n",
    "The Nova Scotia Control Monuments (NSCM) dataset is updated and maintained from ongoing observations on survey monuments. The NSCM indicates the locations of physical survey monuments in Nova Scotia. Information includes the Station Number, Station Name, Station Description, Monument Type, Monument Status, Status Date, Construction Date, GPS suitability and general comments.***"
   ]
  },
  {
   "cell_type": "code",
   "execution_count": 11,
   "metadata": {},
   "outputs": [
    {
     "data": {
      "text/html": [
       "<div>\n",
       "<style scoped>\n",
       "    .dataframe tbody tr th:only-of-type {\n",
       "        vertical-align: middle;\n",
       "    }\n",
       "\n",
       "    .dataframe tbody tr th {\n",
       "        vertical-align: top;\n",
       "    }\n",
       "\n",
       "    .dataframe thead th {\n",
       "        text-align: right;\n",
       "    }\n",
       "</style>\n",
       "<table border=\"1\" class=\"dataframe\">\n",
       "  <thead>\n",
       "    <tr style=\"text-align: right;\">\n",
       "      <th></th>\n",
       "      <th>the_geom</th>\n",
       "      <th>stationnum</th>\n",
       "      <th>stationtyp</th>\n",
       "      <th>montypedes</th>\n",
       "      <th>monstatdes</th>\n",
       "      <th>replace_by</th>\n",
       "      <th>replaces</th>\n",
       "      <th>gpsdes</th>\n",
       "      <th>nsccs_nd27</th>\n",
       "      <th>nsccs_at77</th>\n",
       "      <th>statusdate</th>\n",
       "      <th>constdate</th>\n",
       "      <th>stationdes</th>\n",
       "      <th>nshpn</th>\n",
       "      <th>stationnam</th>\n",
       "      <th>comments</th>\n",
       "      <th>nsacs</th>\n",
       "    </tr>\n",
       "  </thead>\n",
       "  <tbody>\n",
       "    <tr>\n",
       "      <th>0</th>\n",
       "      <td>{'type': 'Point', 'coordinates': [-60.67877237...</td>\n",
       "      <td>219600</td>\n",
       "      <td>NS Coordinate Control Station</td>\n",
       "      <td>Federal 1st Order</td>\n",
       "      <td>Intact</td>\n",
       "      <td>0.0</td>\n",
       "      <td>0.0</td>\n",
       "      <td>Unknown</td>\n",
       "      <td>1.0</td>\n",
       "      <td>1.0</td>\n",
       "      <td>1984-07-01T00:00:00</td>\n",
       "      <td>1921-06-01T00:00:00</td>\n",
       "      <td>NaN</td>\n",
       "      <td>NaN</td>\n",
       "      <td>NaN</td>\n",
       "      <td>NaN</td>\n",
       "      <td>NaN</td>\n",
       "    </tr>\n",
       "    <tr>\n",
       "      <th>1</th>\n",
       "      <td>{'type': 'Point', 'coordinates': [-60.29396267...</td>\n",
       "      <td>201281</td>\n",
       "      <td>NS Coordinate Control Station</td>\n",
       "      <td>Standard Poured Monument</td>\n",
       "      <td>Intact</td>\n",
       "      <td>0.0</td>\n",
       "      <td>0.0</td>\n",
       "      <td>Unknown</td>\n",
       "      <td>1.0</td>\n",
       "      <td>1.0</td>\n",
       "      <td>1990-06-01T00:00:00</td>\n",
       "      <td>1969-06-01T00:00:00</td>\n",
       "      <td>NaN</td>\n",
       "      <td>NaN</td>\n",
       "      <td>NaN</td>\n",
       "      <td>NaN</td>\n",
       "      <td>NaN</td>\n",
       "    </tr>\n",
       "    <tr>\n",
       "      <th>2</th>\n",
       "      <td>{'type': 'Point', 'coordinates': [-60.26477990...</td>\n",
       "      <td>201287</td>\n",
       "      <td>NS Coordinate Control Station</td>\n",
       "      <td>Standard Poured Monument</td>\n",
       "      <td>Intact</td>\n",
       "      <td>0.0</td>\n",
       "      <td>0.0</td>\n",
       "      <td>Unknown</td>\n",
       "      <td>1.0</td>\n",
       "      <td>1.0</td>\n",
       "      <td>1990-06-01T00:00:00</td>\n",
       "      <td>1969-06-01T00:00:00</td>\n",
       "      <td>NaN</td>\n",
       "      <td>NaN</td>\n",
       "      <td>NaN</td>\n",
       "      <td>NaN</td>\n",
       "      <td>NaN</td>\n",
       "    </tr>\n",
       "    <tr>\n",
       "      <th>3</th>\n",
       "      <td>{'type': 'Point', 'coordinates': [-60.15094280...</td>\n",
       "      <td>201027</td>\n",
       "      <td>NS Coordinate Control Station</td>\n",
       "      <td>Standard Poured Monument</td>\n",
       "      <td>Damaged</td>\n",
       "      <td>0.0</td>\n",
       "      <td>0.0</td>\n",
       "      <td>Unknown</td>\n",
       "      <td>1.0</td>\n",
       "      <td>1.0</td>\n",
       "      <td>1991-05-01T00:00:00</td>\n",
       "      <td>1969-06-01T00:00:00</td>\n",
       "      <td>NaN</td>\n",
       "      <td>NaN</td>\n",
       "      <td>NaN</td>\n",
       "      <td>NaN</td>\n",
       "      <td>NaN</td>\n",
       "    </tr>\n",
       "    <tr>\n",
       "      <th>4</th>\n",
       "      <td>{'type': 'Point', 'coordinates': [-60.09131545...</td>\n",
       "      <td>201039</td>\n",
       "      <td>NS Coordinate Control Station</td>\n",
       "      <td>Standard Poured Monument</td>\n",
       "      <td>Reported Destroyed</td>\n",
       "      <td>0.0</td>\n",
       "      <td>0.0</td>\n",
       "      <td>Unknown</td>\n",
       "      <td>1.0</td>\n",
       "      <td>1.0</td>\n",
       "      <td>1991-05-01T00:00:00</td>\n",
       "      <td>1969-06-01T00:00:00</td>\n",
       "      <td>NaN</td>\n",
       "      <td>NaN</td>\n",
       "      <td>NaN</td>\n",
       "      <td>NaN</td>\n",
       "      <td>NaN</td>\n",
       "    </tr>\n",
       "  </tbody>\n",
       "</table>\n",
       "</div>"
      ],
      "text/plain": [
       "                                            the_geom  stationnum  \\\n",
       "0  {'type': 'Point', 'coordinates': [-60.67877237...      219600   \n",
       "1  {'type': 'Point', 'coordinates': [-60.29396267...      201281   \n",
       "2  {'type': 'Point', 'coordinates': [-60.26477990...      201287   \n",
       "3  {'type': 'Point', 'coordinates': [-60.15094280...      201027   \n",
       "4  {'type': 'Point', 'coordinates': [-60.09131545...      201039   \n",
       "\n",
       "                      stationtyp                montypedes  \\\n",
       "0  NS Coordinate Control Station         Federal 1st Order   \n",
       "1  NS Coordinate Control Station  Standard Poured Monument   \n",
       "2  NS Coordinate Control Station  Standard Poured Monument   \n",
       "3  NS Coordinate Control Station  Standard Poured Monument   \n",
       "4  NS Coordinate Control Station  Standard Poured Monument   \n",
       "\n",
       "           monstatdes  replace_by  replaces   gpsdes  nsccs_nd27  nsccs_at77  \\\n",
       "0              Intact         0.0       0.0  Unknown         1.0         1.0   \n",
       "1              Intact         0.0       0.0  Unknown         1.0         1.0   \n",
       "2              Intact         0.0       0.0  Unknown         1.0         1.0   \n",
       "3             Damaged         0.0       0.0  Unknown         1.0         1.0   \n",
       "4  Reported Destroyed         0.0       0.0  Unknown         1.0         1.0   \n",
       "\n",
       "            statusdate            constdate stationdes  nshpn stationnam  \\\n",
       "0  1984-07-01T00:00:00  1921-06-01T00:00:00        NaN    NaN        NaN   \n",
       "1  1990-06-01T00:00:00  1969-06-01T00:00:00        NaN    NaN        NaN   \n",
       "2  1990-06-01T00:00:00  1969-06-01T00:00:00        NaN    NaN        NaN   \n",
       "3  1991-05-01T00:00:00  1969-06-01T00:00:00        NaN    NaN        NaN   \n",
       "4  1991-05-01T00:00:00  1969-06-01T00:00:00        NaN    NaN        NaN   \n",
       "\n",
       "  comments  nsacs  \n",
       "0      NaN    NaN  \n",
       "1      NaN    NaN  \n",
       "2      NaN    NaN  \n",
       "3      NaN    NaN  \n",
       "4      NaN    NaN  "
      ]
     },
     "execution_count": 11,
     "metadata": {},
     "output_type": "execute_result"
    }
   ],
   "source": [
    "# Initialize empty Dataframe\n",
    "data = pd.DataFrame()\n",
    "\n",
    "# Intial Loop Parameters\n",
    "offset = 0\n",
    "response = requests.get(r\"https://data.novascotia.ca/resource/jdf8-5rt8.json?$offset=\" + str(offset))\n",
    "\n",
    "# Loop through all records\n",
    "while str(response.json()) != \"[]\":\n",
    "    response = requests.get(r\"https://data.novascotia.ca/resource/jdf8-5rt8.json?$offset=\" + str(offset))\n",
    "    temp = pd.read_json(response.text)\n",
    "    data = pd.concat([data, temp], ignore_index=True)\n",
    "    offset += 1000\n",
    "data.head(5)"
   ]
  },
  {
   "cell_type": "markdown",
   "metadata": {},
   "source": [
    "**3. Query Data**\n",
    "\n",
    "Query the Dataset for all Non-Intact Monument Satatuses"
   ]
  },
  {
   "cell_type": "code",
   "execution_count": 12,
   "metadata": {},
   "outputs": [
    {
     "data": {
      "text/plain": [
       "monstatdes\n",
       "Damaged                104\n",
       "Declared Destroyed    1193\n",
       "Destroyed             2501\n",
       "Disturbed                2\n",
       "Inaccessible            84\n",
       "Not Located            697\n",
       "Reported Destroyed     205\n",
       "Reported Disturbed      58\n",
       "Unknown                 82\n",
       "Name: stationtyp, dtype: int64"
      ]
     },
     "execution_count": 12,
     "metadata": {},
     "output_type": "execute_result"
    }
   ],
   "source": [
    "# Query momument statuses of all monuments not intact\n",
    "# Get count of total monuments in each status category\n",
    "status  = data[data['monstatdes'] != 'Intact'].stationtyp.groupby(data['monstatdes']).count()\n",
    "status"
   ]
  },
  {
   "cell_type": "markdown",
   "metadata": {},
   "source": [
    "**4. Plot Monument Status**"
   ]
  },
  {
   "cell_type": "code",
   "execution_count": 13,
   "metadata": {},
   "outputs": [
    {
     "data": {
      "image/png": "[encoded data removed]",
      "text/plain": [
       "<Figure size 640x480 with 1 Axes>"
      ]
     },
     "metadata": {},
     "output_type": "display_data"
    }
   ],
   "source": [
    "# Plot the results of above query to show the number of monuments in each status category\n",
    "\n",
    "status.plot(kind='bar', color='purple')\n",
    "plt.xlabel(\"Monument Status\")\n",
    "plt.ylabel(\"Number of Monuments\")\n",
    "plt.title(\"Plot showing number of monuments for\\neach category that are not having an Intact Status\")\n",
    "plt.show()"
   ]
  }
 ],
 "metadata": {
  "kernelspec": {
   "display_name": "Python 3",
   "language": "python",
   "name": "python3"
  },
  "language_info": {
   "codemirror_mode": {
    "name": "ipython",
    "version": 3
   },
   "file_extension": ".py",
   "mimetype": "text/x-python",
   "name": "python",
   "nbconvert_exporter": "python",
   "pygments_lexer": "ipython3",
   "version": "3.7.9"
  }
 },
 "nbformat": 4,
 "nbformat_minor": 2
}
