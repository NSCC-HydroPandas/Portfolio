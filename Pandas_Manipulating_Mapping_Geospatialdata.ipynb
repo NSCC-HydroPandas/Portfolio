{
 "cells": [
  {
   "cell_type": "markdown",
   "metadata": {},
   "source": [
    "# Nova Scotia Provincial Survey Control Points"
   ]
  },
  {
   "cell_type": "markdown",
   "metadata": {},
   "source": [
    "**1. Import Libraries**"
   ]
  },
  {
   "cell_type": "code",
   "execution_count": null,
   "metadata": {},
   "outputs": [],
   "source": [
    "import requests\n",
    "import numpy as np\n",
    "import pandas as pd\n",
    "\n",
    "!pip install ipyleaflet\n",
    "from ipyleaflet import Map, Marker"
   ]
  },
  {
   "cell_type": "markdown",
   "metadata": {},
   "source": [
    "**2. Connect to Provincial Monument Dataset and Import into a Pandas DataFrame**\n",
    "\n",
    "https://data.novascotia.ca/Lands-Forests-and-Wildlife/Nova-Scotia-Control-Monuments/jdf8-5rt8/about_data\n",
    "\n",
    "Data Summary:\n",
    "\n",
    "***Nova Scotia Control Monuments\n",
    "Lands, Forests and Wildlife\n",
    "The Nova Scotia Control Monuments (NSCM) dataset is updated and maintained from ongoing observations on survey monuments. The NSCM indicates the locations of physical survey monuments in Nova Scotia. Information includes the Station Number, Station Name, Station Description, Monument Type, Monument Status, Status Date, Construction Date, GPS suitability and general comments.***"
   ]
  },
  {
   "cell_type": "code",
   "execution_count": null,
   "metadata": {},
   "outputs": [],
   "source": [
    "\n",
    "# Initialize empty Dataframe\n",
    "data = pd.DataFrame()\n",
    "\n",
    "# Intial Loop Parameters\n",
    "offset = 0\n",
    "response = requests.get(r\"https://data.novascotia.ca/resource/jdf8-5rt8.json?$offset=\" + str(offset))\n",
    "\n",
    "# Loop through all records\n",
    "while str(response.json()) != \"[]\":\n",
    "    response = requests.get(r\"https://data.novascotia.ca/resource/jdf8-5rt8.json?$offset=\" + str(offset))\n",
    "    temp = pd.read_json(response.text)\n",
    "    data = data._append(temp, ignore_index=True)               # Append requets to Dataframe\n",
    "    offset += 1000\n",
    "data"
   ]
  },
  {
   "cell_type": "markdown",
   "metadata": {},
   "source": [
    "**3. Query Data**\n",
    "\n",
    "Query the Dataset for only the High Precision Network Points"
   ]
  },
  {
   "cell_type": "code",
   "execution_count": null,
   "metadata": {},
   "outputs": [],
   "source": [
    "# Query all the High Precision Control\n",
    "high_precision = data[(data['stationtyp']==\"NS High Precision Network / NS Coordinate Control Station\") | (data['stationtyp']==\"NS High Precision Network\")]\n",
    "f\"Number of High Precision Control Point is {high_precision.shape[0]}\""
   ]
  },
  {
   "cell_type": "markdown",
   "metadata": {},
   "source": [
    "**4. Plot the High Precision Control on a Map**"
   ]
  },
  {
   "cell_type": "code",
   "execution_count": null,
   "metadata": {},
   "outputs": [],
   "source": [
    "\n",
    "# Center of Nova Scotia and set zoom level to see most of the province\n",
    "center = (45.318771, -63.352391)\n",
    "m = Map(center=center, zoom=7)\n",
    "\n",
    "# Loop through the Coordinates, and other attributes to create tooltip\n",
    "for index, row in high_precision.iterrows():\n",
    "        coords = dict(row['the_geom'])\n",
    "        for k, v in coords.items():\n",
    "                if v != \"Point\":\n",
    "                        lon = v[0]\n",
    "                        lat = v[1]\n",
    "        marker = Marker(location=(lat, lon), title=(f\"Station Number: {str(row['stationnum'])}\\nStation Type: {str(row['stationtyp'])}\\nMonument Type: {str(row['montypedes'])}\"), draggable=False)\n",
    "        m.add(marker);\n",
    "\n",
    "display(m)"
   ]
  }
 ],
 "metadata": {
  "kernelspec": {
   "display_name": "base",
   "language": "python",
   "name": "python3"
  },
  "language_info": {
   "codemirror_mode": {
    "name": "ipython",
    "version": 3
   },
   "file_extension": ".py",
   "mimetype": "text/x-python",
   "name": "python",
   "nbconvert_exporter": "python",
   "pygments_lexer": "ipython3",
   "version": "3.11.7"
  }
 },
 "nbformat": 4,
 "nbformat_minor": 2
}
